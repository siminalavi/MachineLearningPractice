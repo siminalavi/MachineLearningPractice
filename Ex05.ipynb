{
 "cells": [
  {
   "cell_type": "markdown",
   "id": "c566b28a-d8a2-40c1-81f5-e57246372a60",
   "metadata": {
    "tags": []
   },
   "source": [
    "# ِDataset MetaData"
   ]
  },
  {
   "cell_type": "raw",
   "id": "2f4a8780-8326-44c6-9ca7-759ea2c8873b",
   "metadata": {},
   "source": [
    "Index: Row index\n",
    "user id: User ID (unique)\n",
    "test group: If \"ad\" the person saw the advertisement, if \"psa\" they only saw the public service announcement\n",
    "converted: If a person bought the product then True, else is False\n",
    "total ads: Amount of ads seen by person\n",
    "most ads day: Day that the person saw the biggest amount of ads\n",
    "most ads hour: Hour of day that the person saw the biggest amount of ads"
   ]
  },
  {
   "cell_type": "markdown",
   "id": "07c8efb3-e425-4d42-8dff-c75d7e05a509",
   "metadata": {
    "tags": []
   },
   "source": [
    "# Import Libraries"
   ]
  },
  {
   "cell_type": "code",
   "execution_count": 1,
   "id": "df00461e-e48b-484e-b429-879537945587",
   "metadata": {},
   "outputs": [],
   "source": [
    "import numpy as np\n",
    "import pandas as pd\n",
    "import seaborn as sns\n",
    "import matplotlib.pyplot as plt\n",
    "from scipy import stats\n",
    "import random"
   ]
  },
  {
   "cell_type": "markdown",
   "id": "eca2be8e-9a64-4614-9091-83dd9c31fbdd",
   "metadata": {},
   "source": [
    "# Read Dataset"
   ]
  },
  {
   "cell_type": "code",
   "execution_count": 2,
   "id": "88f5d7a1-938f-4ab9-b83b-4813203fb843",
   "metadata": {},
   "outputs": [
    {
     "data": {
      "text/html": [
       "<div>\n",
       "<style scoped>\n",
       "    .dataframe tbody tr th:only-of-type {\n",
       "        vertical-align: middle;\n",
       "    }\n",
       "\n",
       "    .dataframe tbody tr th {\n",
       "        vertical-align: top;\n",
       "    }\n",
       "\n",
       "    .dataframe thead th {\n",
       "        text-align: right;\n",
       "    }\n",
       "</style>\n",
       "<table border=\"1\" class=\"dataframe\">\n",
       "  <thead>\n",
       "    <tr style=\"text-align: right;\">\n",
       "      <th></th>\n",
       "      <th>Unnamed: 0</th>\n",
       "      <th>user id</th>\n",
       "      <th>test group</th>\n",
       "      <th>converted</th>\n",
       "      <th>total ads</th>\n",
       "      <th>most ads day</th>\n",
       "      <th>most ads hour</th>\n",
       "    </tr>\n",
       "  </thead>\n",
       "  <tbody>\n",
       "    <tr>\n",
       "      <th>0</th>\n",
       "      <td>0</td>\n",
       "      <td>1069124</td>\n",
       "      <td>ad</td>\n",
       "      <td>False</td>\n",
       "      <td>130</td>\n",
       "      <td>Monday</td>\n",
       "      <td>20</td>\n",
       "    </tr>\n",
       "    <tr>\n",
       "      <th>1</th>\n",
       "      <td>1</td>\n",
       "      <td>1119715</td>\n",
       "      <td>ad</td>\n",
       "      <td>False</td>\n",
       "      <td>93</td>\n",
       "      <td>Tuesday</td>\n",
       "      <td>22</td>\n",
       "    </tr>\n",
       "    <tr>\n",
       "      <th>2</th>\n",
       "      <td>2</td>\n",
       "      <td>1144181</td>\n",
       "      <td>ad</td>\n",
       "      <td>False</td>\n",
       "      <td>21</td>\n",
       "      <td>Tuesday</td>\n",
       "      <td>18</td>\n",
       "    </tr>\n",
       "    <tr>\n",
       "      <th>3</th>\n",
       "      <td>3</td>\n",
       "      <td>1435133</td>\n",
       "      <td>ad</td>\n",
       "      <td>False</td>\n",
       "      <td>355</td>\n",
       "      <td>Tuesday</td>\n",
       "      <td>10</td>\n",
       "    </tr>\n",
       "    <tr>\n",
       "      <th>4</th>\n",
       "      <td>4</td>\n",
       "      <td>1015700</td>\n",
       "      <td>ad</td>\n",
       "      <td>False</td>\n",
       "      <td>276</td>\n",
       "      <td>Friday</td>\n",
       "      <td>14</td>\n",
       "    </tr>\n",
       "    <tr>\n",
       "      <th>...</th>\n",
       "      <td>...</td>\n",
       "      <td>...</td>\n",
       "      <td>...</td>\n",
       "      <td>...</td>\n",
       "      <td>...</td>\n",
       "      <td>...</td>\n",
       "      <td>...</td>\n",
       "    </tr>\n",
       "    <tr>\n",
       "      <th>588096</th>\n",
       "      <td>588096</td>\n",
       "      <td>1278437</td>\n",
       "      <td>ad</td>\n",
       "      <td>False</td>\n",
       "      <td>1</td>\n",
       "      <td>Tuesday</td>\n",
       "      <td>23</td>\n",
       "    </tr>\n",
       "    <tr>\n",
       "      <th>588097</th>\n",
       "      <td>588097</td>\n",
       "      <td>1327975</td>\n",
       "      <td>ad</td>\n",
       "      <td>False</td>\n",
       "      <td>1</td>\n",
       "      <td>Tuesday</td>\n",
       "      <td>23</td>\n",
       "    </tr>\n",
       "    <tr>\n",
       "      <th>588098</th>\n",
       "      <td>588098</td>\n",
       "      <td>1038442</td>\n",
       "      <td>ad</td>\n",
       "      <td>False</td>\n",
       "      <td>3</td>\n",
       "      <td>Tuesday</td>\n",
       "      <td>23</td>\n",
       "    </tr>\n",
       "    <tr>\n",
       "      <th>588099</th>\n",
       "      <td>588099</td>\n",
       "      <td>1496395</td>\n",
       "      <td>ad</td>\n",
       "      <td>False</td>\n",
       "      <td>1</td>\n",
       "      <td>Tuesday</td>\n",
       "      <td>23</td>\n",
       "    </tr>\n",
       "    <tr>\n",
       "      <th>588100</th>\n",
       "      <td>588100</td>\n",
       "      <td>1237779</td>\n",
       "      <td>ad</td>\n",
       "      <td>False</td>\n",
       "      <td>1</td>\n",
       "      <td>Tuesday</td>\n",
       "      <td>23</td>\n",
       "    </tr>\n",
       "  </tbody>\n",
       "</table>\n",
       "<p>588101 rows × 7 columns</p>\n",
       "</div>"
      ],
      "text/plain": [
       "        Unnamed: 0  user id test group  converted  total ads most ads day  \\\n",
       "0                0  1069124         ad      False        130       Monday   \n",
       "1                1  1119715         ad      False         93      Tuesday   \n",
       "2                2  1144181         ad      False         21      Tuesday   \n",
       "3                3  1435133         ad      False        355      Tuesday   \n",
       "4                4  1015700         ad      False        276       Friday   \n",
       "...            ...      ...        ...        ...        ...          ...   \n",
       "588096      588096  1278437         ad      False          1      Tuesday   \n",
       "588097      588097  1327975         ad      False          1      Tuesday   \n",
       "588098      588098  1038442         ad      False          3      Tuesday   \n",
       "588099      588099  1496395         ad      False          1      Tuesday   \n",
       "588100      588100  1237779         ad      False          1      Tuesday   \n",
       "\n",
       "        most ads hour  \n",
       "0                  20  \n",
       "1                  22  \n",
       "2                  18  \n",
       "3                  10  \n",
       "4                  14  \n",
       "...               ...  \n",
       "588096             23  \n",
       "588097             23  \n",
       "588098             23  \n",
       "588099             23  \n",
       "588100             23  \n",
       "\n",
       "[588101 rows x 7 columns]"
      ]
     },
     "execution_count": 2,
     "metadata": {},
     "output_type": "execute_result"
    }
   ],
   "source": [
    "df = pd.read_csv('marketing_AB.csv')\n",
    "df"
   ]
  },
  {
   "cell_type": "markdown",
   "id": "b8f75c74-226d-4b82-a9d4-becb5f85d64f",
   "metadata": {},
   "source": [
    "# Explore Dataset"
   ]
  },
  {
   "cell_type": "code",
   "execution_count": 3,
   "id": "91a0319b-a55c-4b13-9fa6-b8cda0b85e61",
   "metadata": {
    "tags": []
   },
   "outputs": [
    {
     "data": {
      "text/plain": [
       "(588101, 7)"
      ]
     },
     "execution_count": 3,
     "metadata": {},
     "output_type": "execute_result"
    }
   ],
   "source": [
    "df.shape"
   ]
  },
  {
   "cell_type": "code",
   "execution_count": 4,
   "id": "4fe46067-8a38-4d2f-8bab-70b5bd64d75f",
   "metadata": {
    "tags": []
   },
   "outputs": [
    {
     "data": {
      "text/html": [
       "<div>\n",
       "<style scoped>\n",
       "    .dataframe tbody tr th:only-of-type {\n",
       "        vertical-align: middle;\n",
       "    }\n",
       "\n",
       "    .dataframe tbody tr th {\n",
       "        vertical-align: top;\n",
       "    }\n",
       "\n",
       "    .dataframe thead th {\n",
       "        text-align: right;\n",
       "    }\n",
       "</style>\n",
       "<table border=\"1\" class=\"dataframe\">\n",
       "  <thead>\n",
       "    <tr style=\"text-align: right;\">\n",
       "      <th></th>\n",
       "      <th>Unnamed: 0</th>\n",
       "      <th>user id</th>\n",
       "      <th>test group</th>\n",
       "      <th>converted</th>\n",
       "      <th>total ads</th>\n",
       "      <th>most ads day</th>\n",
       "      <th>most ads hour</th>\n",
       "    </tr>\n",
       "  </thead>\n",
       "  <tbody>\n",
       "    <tr>\n",
       "      <th>0</th>\n",
       "      <td>0</td>\n",
       "      <td>1069124</td>\n",
       "      <td>ad</td>\n",
       "      <td>False</td>\n",
       "      <td>130</td>\n",
       "      <td>Monday</td>\n",
       "      <td>20</td>\n",
       "    </tr>\n",
       "    <tr>\n",
       "      <th>1</th>\n",
       "      <td>1</td>\n",
       "      <td>1119715</td>\n",
       "      <td>ad</td>\n",
       "      <td>False</td>\n",
       "      <td>93</td>\n",
       "      <td>Tuesday</td>\n",
       "      <td>22</td>\n",
       "    </tr>\n",
       "    <tr>\n",
       "      <th>2</th>\n",
       "      <td>2</td>\n",
       "      <td>1144181</td>\n",
       "      <td>ad</td>\n",
       "      <td>False</td>\n",
       "      <td>21</td>\n",
       "      <td>Tuesday</td>\n",
       "      <td>18</td>\n",
       "    </tr>\n",
       "    <tr>\n",
       "      <th>3</th>\n",
       "      <td>3</td>\n",
       "      <td>1435133</td>\n",
       "      <td>ad</td>\n",
       "      <td>False</td>\n",
       "      <td>355</td>\n",
       "      <td>Tuesday</td>\n",
       "      <td>10</td>\n",
       "    </tr>\n",
       "    <tr>\n",
       "      <th>4</th>\n",
       "      <td>4</td>\n",
       "      <td>1015700</td>\n",
       "      <td>ad</td>\n",
       "      <td>False</td>\n",
       "      <td>276</td>\n",
       "      <td>Friday</td>\n",
       "      <td>14</td>\n",
       "    </tr>\n",
       "  </tbody>\n",
       "</table>\n",
       "</div>"
      ],
      "text/plain": [
       "   Unnamed: 0  user id test group  converted  total ads most ads day  \\\n",
       "0           0  1069124         ad      False        130       Monday   \n",
       "1           1  1119715         ad      False         93      Tuesday   \n",
       "2           2  1144181         ad      False         21      Tuesday   \n",
       "3           3  1435133         ad      False        355      Tuesday   \n",
       "4           4  1015700         ad      False        276       Friday   \n",
       "\n",
       "   most ads hour  \n",
       "0             20  \n",
       "1             22  \n",
       "2             18  \n",
       "3             10  \n",
       "4             14  "
      ]
     },
     "execution_count": 4,
     "metadata": {},
     "output_type": "execute_result"
    }
   ],
   "source": [
    "df.head(5)"
   ]
  },
  {
   "cell_type": "code",
   "execution_count": 5,
   "id": "6324c055-618b-4f48-aa89-c6ed84e44777",
   "metadata": {
    "tags": []
   },
   "outputs": [
    {
     "data": {
      "text/html": [
       "<div>\n",
       "<style scoped>\n",
       "    .dataframe tbody tr th:only-of-type {\n",
       "        vertical-align: middle;\n",
       "    }\n",
       "\n",
       "    .dataframe tbody tr th {\n",
       "        vertical-align: top;\n",
       "    }\n",
       "\n",
       "    .dataframe thead th {\n",
       "        text-align: right;\n",
       "    }\n",
       "</style>\n",
       "<table border=\"1\" class=\"dataframe\">\n",
       "  <thead>\n",
       "    <tr style=\"text-align: right;\">\n",
       "      <th></th>\n",
       "      <th>Unnamed: 0</th>\n",
       "      <th>user id</th>\n",
       "      <th>test group</th>\n",
       "      <th>converted</th>\n",
       "      <th>total ads</th>\n",
       "      <th>most ads day</th>\n",
       "      <th>most ads hour</th>\n",
       "    </tr>\n",
       "  </thead>\n",
       "  <tbody>\n",
       "    <tr>\n",
       "      <th>588096</th>\n",
       "      <td>588096</td>\n",
       "      <td>1278437</td>\n",
       "      <td>ad</td>\n",
       "      <td>False</td>\n",
       "      <td>1</td>\n",
       "      <td>Tuesday</td>\n",
       "      <td>23</td>\n",
       "    </tr>\n",
       "    <tr>\n",
       "      <th>588097</th>\n",
       "      <td>588097</td>\n",
       "      <td>1327975</td>\n",
       "      <td>ad</td>\n",
       "      <td>False</td>\n",
       "      <td>1</td>\n",
       "      <td>Tuesday</td>\n",
       "      <td>23</td>\n",
       "    </tr>\n",
       "    <tr>\n",
       "      <th>588098</th>\n",
       "      <td>588098</td>\n",
       "      <td>1038442</td>\n",
       "      <td>ad</td>\n",
       "      <td>False</td>\n",
       "      <td>3</td>\n",
       "      <td>Tuesday</td>\n",
       "      <td>23</td>\n",
       "    </tr>\n",
       "    <tr>\n",
       "      <th>588099</th>\n",
       "      <td>588099</td>\n",
       "      <td>1496395</td>\n",
       "      <td>ad</td>\n",
       "      <td>False</td>\n",
       "      <td>1</td>\n",
       "      <td>Tuesday</td>\n",
       "      <td>23</td>\n",
       "    </tr>\n",
       "    <tr>\n",
       "      <th>588100</th>\n",
       "      <td>588100</td>\n",
       "      <td>1237779</td>\n",
       "      <td>ad</td>\n",
       "      <td>False</td>\n",
       "      <td>1</td>\n",
       "      <td>Tuesday</td>\n",
       "      <td>23</td>\n",
       "    </tr>\n",
       "  </tbody>\n",
       "</table>\n",
       "</div>"
      ],
      "text/plain": [
       "        Unnamed: 0  user id test group  converted  total ads most ads day  \\\n",
       "588096      588096  1278437         ad      False          1      Tuesday   \n",
       "588097      588097  1327975         ad      False          1      Tuesday   \n",
       "588098      588098  1038442         ad      False          3      Tuesday   \n",
       "588099      588099  1496395         ad      False          1      Tuesday   \n",
       "588100      588100  1237779         ad      False          1      Tuesday   \n",
       "\n",
       "        most ads hour  \n",
       "588096             23  \n",
       "588097             23  \n",
       "588098             23  \n",
       "588099             23  \n",
       "588100             23  "
      ]
     },
     "execution_count": 5,
     "metadata": {},
     "output_type": "execute_result"
    }
   ],
   "source": [
    "df.tail(5)"
   ]
  },
  {
   "cell_type": "code",
   "execution_count": 6,
   "id": "f9f18430-7fd2-4751-9436-3b5a23e99e7d",
   "metadata": {
    "tags": []
   },
   "outputs": [
    {
     "name": "stdout",
     "output_type": "stream",
     "text": [
      "<class 'pandas.core.frame.DataFrame'>\n",
      "RangeIndex: 588101 entries, 0 to 588100\n",
      "Data columns (total 7 columns):\n",
      " #   Column         Non-Null Count   Dtype \n",
      "---  ------         --------------   ----- \n",
      " 0   Unnamed: 0     588101 non-null  int64 \n",
      " 1   user id        588101 non-null  int64 \n",
      " 2   test group     588101 non-null  object\n",
      " 3   converted      588101 non-null  bool  \n",
      " 4   total ads      588101 non-null  int64 \n",
      " 5   most ads day   588101 non-null  object\n",
      " 6   most ads hour  588101 non-null  int64 \n",
      "dtypes: bool(1), int64(4), object(2)\n",
      "memory usage: 27.5+ MB\n"
     ]
    }
   ],
   "source": [
    "df.info()"
   ]
  },
  {
   "cell_type": "code",
   "execution_count": 7,
   "id": "22c61545-418d-4d34-b08a-b21dc86afd6c",
   "metadata": {
    "tags": []
   },
   "outputs": [
    {
     "data": {
      "text/html": [
       "<div>\n",
       "<style scoped>\n",
       "    .dataframe tbody tr th:only-of-type {\n",
       "        vertical-align: middle;\n",
       "    }\n",
       "\n",
       "    .dataframe tbody tr th {\n",
       "        vertical-align: top;\n",
       "    }\n",
       "\n",
       "    .dataframe thead th {\n",
       "        text-align: right;\n",
       "    }\n",
       "</style>\n",
       "<table border=\"1\" class=\"dataframe\">\n",
       "  <thead>\n",
       "    <tr style=\"text-align: right;\">\n",
       "      <th></th>\n",
       "      <th>Unnamed: 0</th>\n",
       "      <th>user id</th>\n",
       "      <th>test group</th>\n",
       "      <th>converted</th>\n",
       "      <th>total ads</th>\n",
       "      <th>most ads day</th>\n",
       "      <th>most ads hour</th>\n",
       "    </tr>\n",
       "  </thead>\n",
       "  <tbody>\n",
       "    <tr>\n",
       "      <th>count</th>\n",
       "      <td>588101.000000</td>\n",
       "      <td>5.881010e+05</td>\n",
       "      <td>588101</td>\n",
       "      <td>588101</td>\n",
       "      <td>588101.000000</td>\n",
       "      <td>588101</td>\n",
       "      <td>588101.000000</td>\n",
       "    </tr>\n",
       "    <tr>\n",
       "      <th>unique</th>\n",
       "      <td>NaN</td>\n",
       "      <td>NaN</td>\n",
       "      <td>2</td>\n",
       "      <td>2</td>\n",
       "      <td>NaN</td>\n",
       "      <td>7</td>\n",
       "      <td>NaN</td>\n",
       "    </tr>\n",
       "    <tr>\n",
       "      <th>top</th>\n",
       "      <td>NaN</td>\n",
       "      <td>NaN</td>\n",
       "      <td>ad</td>\n",
       "      <td>False</td>\n",
       "      <td>NaN</td>\n",
       "      <td>Friday</td>\n",
       "      <td>NaN</td>\n",
       "    </tr>\n",
       "    <tr>\n",
       "      <th>freq</th>\n",
       "      <td>NaN</td>\n",
       "      <td>NaN</td>\n",
       "      <td>564577</td>\n",
       "      <td>573258</td>\n",
       "      <td>NaN</td>\n",
       "      <td>92608</td>\n",
       "      <td>NaN</td>\n",
       "    </tr>\n",
       "    <tr>\n",
       "      <th>mean</th>\n",
       "      <td>294050.000000</td>\n",
       "      <td>1.310692e+06</td>\n",
       "      <td>NaN</td>\n",
       "      <td>NaN</td>\n",
       "      <td>24.820876</td>\n",
       "      <td>NaN</td>\n",
       "      <td>14.469061</td>\n",
       "    </tr>\n",
       "    <tr>\n",
       "      <th>std</th>\n",
       "      <td>169770.279667</td>\n",
       "      <td>2.022260e+05</td>\n",
       "      <td>NaN</td>\n",
       "      <td>NaN</td>\n",
       "      <td>43.715181</td>\n",
       "      <td>NaN</td>\n",
       "      <td>4.834634</td>\n",
       "    </tr>\n",
       "    <tr>\n",
       "      <th>min</th>\n",
       "      <td>0.000000</td>\n",
       "      <td>9.000000e+05</td>\n",
       "      <td>NaN</td>\n",
       "      <td>NaN</td>\n",
       "      <td>1.000000</td>\n",
       "      <td>NaN</td>\n",
       "      <td>0.000000</td>\n",
       "    </tr>\n",
       "    <tr>\n",
       "      <th>25%</th>\n",
       "      <td>147025.000000</td>\n",
       "      <td>1.143190e+06</td>\n",
       "      <td>NaN</td>\n",
       "      <td>NaN</td>\n",
       "      <td>4.000000</td>\n",
       "      <td>NaN</td>\n",
       "      <td>11.000000</td>\n",
       "    </tr>\n",
       "    <tr>\n",
       "      <th>50%</th>\n",
       "      <td>294050.000000</td>\n",
       "      <td>1.313725e+06</td>\n",
       "      <td>NaN</td>\n",
       "      <td>NaN</td>\n",
       "      <td>13.000000</td>\n",
       "      <td>NaN</td>\n",
       "      <td>14.000000</td>\n",
       "    </tr>\n",
       "    <tr>\n",
       "      <th>75%</th>\n",
       "      <td>441075.000000</td>\n",
       "      <td>1.484088e+06</td>\n",
       "      <td>NaN</td>\n",
       "      <td>NaN</td>\n",
       "      <td>27.000000</td>\n",
       "      <td>NaN</td>\n",
       "      <td>18.000000</td>\n",
       "    </tr>\n",
       "    <tr>\n",
       "      <th>max</th>\n",
       "      <td>588100.000000</td>\n",
       "      <td>1.654483e+06</td>\n",
       "      <td>NaN</td>\n",
       "      <td>NaN</td>\n",
       "      <td>2065.000000</td>\n",
       "      <td>NaN</td>\n",
       "      <td>23.000000</td>\n",
       "    </tr>\n",
       "  </tbody>\n",
       "</table>\n",
       "</div>"
      ],
      "text/plain": [
       "           Unnamed: 0       user id test group converted      total ads  \\\n",
       "count   588101.000000  5.881010e+05     588101    588101  588101.000000   \n",
       "unique            NaN           NaN          2         2            NaN   \n",
       "top               NaN           NaN         ad     False            NaN   \n",
       "freq              NaN           NaN     564577    573258            NaN   \n",
       "mean    294050.000000  1.310692e+06        NaN       NaN      24.820876   \n",
       "std     169770.279667  2.022260e+05        NaN       NaN      43.715181   \n",
       "min          0.000000  9.000000e+05        NaN       NaN       1.000000   \n",
       "25%     147025.000000  1.143190e+06        NaN       NaN       4.000000   \n",
       "50%     294050.000000  1.313725e+06        NaN       NaN      13.000000   \n",
       "75%     441075.000000  1.484088e+06        NaN       NaN      27.000000   \n",
       "max     588100.000000  1.654483e+06        NaN       NaN    2065.000000   \n",
       "\n",
       "       most ads day  most ads hour  \n",
       "count        588101  588101.000000  \n",
       "unique            7            NaN  \n",
       "top          Friday            NaN  \n",
       "freq          92608            NaN  \n",
       "mean            NaN      14.469061  \n",
       "std             NaN       4.834634  \n",
       "min             NaN       0.000000  \n",
       "25%             NaN      11.000000  \n",
       "50%             NaN      14.000000  \n",
       "75%             NaN      18.000000  \n",
       "max             NaN      23.000000  "
      ]
     },
     "execution_count": 7,
     "metadata": {},
     "output_type": "execute_result"
    }
   ],
   "source": [
    "df.describe(include=\"all\")"
   ]
  },
  {
   "cell_type": "code",
   "execution_count": 8,
   "id": "ffcb7882-02a6-4df7-ba88-98f33c9b2385",
   "metadata": {
    "tags": []
   },
   "outputs": [
    {
     "data": {
      "text/plain": [
       "Index(['Unnamed: 0', 'user id', 'test group', 'converted', 'total ads',\n",
       "       'most ads day', 'most ads hour'],\n",
       "      dtype='object')"
      ]
     },
     "execution_count": 8,
     "metadata": {},
     "output_type": "execute_result"
    }
   ],
   "source": [
    "df.columns"
   ]
  },
  {
   "cell_type": "markdown",
   "id": "4d3a5b60-c1cf-4dba-ac83-0c972543bcb0",
   "metadata": {
    "tags": []
   },
   "source": [
    "# Data cleansing"
   ]
  },
  {
   "cell_type": "code",
   "execution_count": 9,
   "id": "65d0e2c8-699a-4c72-85cb-caa76f9196a6",
   "metadata": {
    "tags": []
   },
   "outputs": [],
   "source": [
    "if \"Unnamed: 0\" in df.columns:\n",
    "   \n",
    "    df = df.drop([\"Unnamed: 0\"], axis =1)"
   ]
  },
  {
   "cell_type": "code",
   "execution_count": 10,
   "id": "ab4b9e74-6c36-434b-80fa-def3a628a7d2",
   "metadata": {
    "tags": []
   },
   "outputs": [
    {
     "data": {
      "text/html": [
       "<div>\n",
       "<style scoped>\n",
       "    .dataframe tbody tr th:only-of-type {\n",
       "        vertical-align: middle;\n",
       "    }\n",
       "\n",
       "    .dataframe tbody tr th {\n",
       "        vertical-align: top;\n",
       "    }\n",
       "\n",
       "    .dataframe thead th {\n",
       "        text-align: right;\n",
       "    }\n",
       "</style>\n",
       "<table border=\"1\" class=\"dataframe\">\n",
       "  <thead>\n",
       "    <tr style=\"text-align: right;\">\n",
       "      <th></th>\n",
       "      <th>user_id</th>\n",
       "      <th>test_group</th>\n",
       "      <th>converted</th>\n",
       "      <th>total_ads</th>\n",
       "      <th>most_ads_day</th>\n",
       "      <th>most_ads_hour</th>\n",
       "    </tr>\n",
       "  </thead>\n",
       "  <tbody>\n",
       "    <tr>\n",
       "      <th>0</th>\n",
       "      <td>1069124</td>\n",
       "      <td>ad</td>\n",
       "      <td>False</td>\n",
       "      <td>130</td>\n",
       "      <td>Monday</td>\n",
       "      <td>20</td>\n",
       "    </tr>\n",
       "  </tbody>\n",
       "</table>\n",
       "</div>"
      ],
      "text/plain": [
       "   user_id test_group  converted  total_ads most_ads_day  most_ads_hour\n",
       "0  1069124         ad      False        130       Monday             20"
      ]
     },
     "execution_count": 10,
     "metadata": {},
     "output_type": "execute_result"
    }
   ],
   "source": [
    "df.rename(columns=lambda x: x.strip().replace(\" \", \"_\"), inplace=True)\n",
    "df.head(1)"
   ]
  },
  {
   "cell_type": "code",
   "execution_count": 11,
   "id": "d07ed9e5-6d0b-47f1-bb77-1447acdd9e90",
   "metadata": {
    "tags": []
   },
   "outputs": [
    {
     "name": "stdout",
     "output_type": "stream",
     "text": [
      "False\n"
     ]
    }
   ],
   "source": [
    "#duplicate rows?\n",
    "dups = df.duplicated()\n",
    "print(dups.any())"
   ]
  },
  {
   "cell_type": "code",
   "execution_count": 12,
   "id": "c1c412d6-a70b-4dde-97f7-15771d91c0c4",
   "metadata": {
    "tags": []
   },
   "outputs": [
    {
     "data": {
      "text/plain": [
       "user_id          0\n",
       "test_group       0\n",
       "converted        0\n",
       "total_ads        0\n",
       "most_ads_day     0\n",
       "most_ads_hour    0\n",
       "dtype: int64"
      ]
     },
     "execution_count": 12,
     "metadata": {},
     "output_type": "execute_result"
    }
   ],
   "source": [
    "#duplicated user_id?\n",
    "df[df[\"user_id\"].duplicated()].count()"
   ]
  },
  {
   "cell_type": "code",
   "execution_count": 13,
   "id": "99f93932-2727-401d-a413-4288b9d35529",
   "metadata": {
    "tags": []
   },
   "outputs": [
    {
     "name": "stdout",
     "output_type": "stream",
     "text": [
      "Rows            : 588101\n",
      "Columns         : 6\n",
      "Features        : ['user_id', 'test_group', 'converted', 'total_ads', 'most_ads_day', 'most_ads_hour']\n",
      "Missing Values  : 0\n",
      "Unique Values   : \n",
      "\n",
      "user_id          588101\n",
      "test_group            2\n",
      "converted             2\n",
      "total_ads           807\n",
      "most_ads_day          7\n",
      "most_ads_hour        24\n",
      "dtype: int64\n"
     ]
    }
   ],
   "source": [
    "print(f'Rows            : {df.shape[0]}')\n",
    "print(f'Columns         : {df.shape[1]}')\n",
    "print(f'Features        : {df.columns.tolist()}')\n",
    "print(f'Missing Values  : {df.isnull().values.sum()}')\n",
    "print(f'Unique Values   : \\n\\n{df.nunique()}')"
   ]
  },
  {
   "cell_type": "code",
   "execution_count": 14,
   "id": "59ee09c9-89b9-4b3b-9006-77f91d1a8919",
   "metadata": {
    "tags": []
   },
   "outputs": [
    {
     "data": {
      "text/plain": [
       "user_id          False\n",
       "test_group       False\n",
       "converted        False\n",
       "total_ads        False\n",
       "most_ads_day     False\n",
       "most_ads_hour    False\n",
       "dtype: bool"
      ]
     },
     "execution_count": 14,
     "metadata": {},
     "output_type": "execute_result"
    }
   ],
   "source": [
    "df.isnull().any()"
   ]
  },
  {
   "cell_type": "code",
   "execution_count": 15,
   "id": "63c57eaf-784e-48e6-800c-b832a6c8c348",
   "metadata": {
    "tags": []
   },
   "outputs": [
    {
     "data": {
      "text/plain": [
       "14843"
      ]
     },
     "execution_count": 15,
     "metadata": {},
     "output_type": "execute_result"
    }
   ],
   "source": [
    "df[\"converted_int\"] = df['converted'].apply(lambda x:1 if x== True  else  0)\n",
    "df[\"converted_int\"].sum()"
   ]
  },
  {
   "cell_type": "code",
   "execution_count": 16,
   "id": "5560402c-9a6e-40c9-b5e0-3c6209a9b7e6",
   "metadata": {
    "tags": []
   },
   "outputs": [
    {
     "data": {
      "text/html": [
       "<div>\n",
       "<style scoped>\n",
       "    .dataframe tbody tr th:only-of-type {\n",
       "        vertical-align: middle;\n",
       "    }\n",
       "\n",
       "    .dataframe tbody tr th {\n",
       "        vertical-align: top;\n",
       "    }\n",
       "\n",
       "    .dataframe thead th {\n",
       "        text-align: right;\n",
       "    }\n",
       "</style>\n",
       "<table border=\"1\" class=\"dataframe\">\n",
       "  <thead>\n",
       "    <tr style=\"text-align: right;\">\n",
       "      <th></th>\n",
       "      <th>user_id</th>\n",
       "      <th>test_group</th>\n",
       "      <th>converted</th>\n",
       "      <th>total_ads</th>\n",
       "      <th>most_ads_day</th>\n",
       "      <th>most_ads_hour</th>\n",
       "      <th>converted_int</th>\n",
       "    </tr>\n",
       "  </thead>\n",
       "  <tbody>\n",
       "    <tr>\n",
       "      <th>0</th>\n",
       "      <td>1069124</td>\n",
       "      <td>ad</td>\n",
       "      <td>False</td>\n",
       "      <td>130</td>\n",
       "      <td>Monday</td>\n",
       "      <td>20</td>\n",
       "      <td>0</td>\n",
       "    </tr>\n",
       "    <tr>\n",
       "      <th>1</th>\n",
       "      <td>1119715</td>\n",
       "      <td>ad</td>\n",
       "      <td>False</td>\n",
       "      <td>93</td>\n",
       "      <td>Tuesday</td>\n",
       "      <td>22</td>\n",
       "      <td>0</td>\n",
       "    </tr>\n",
       "    <tr>\n",
       "      <th>2</th>\n",
       "      <td>1144181</td>\n",
       "      <td>ad</td>\n",
       "      <td>False</td>\n",
       "      <td>21</td>\n",
       "      <td>Tuesday</td>\n",
       "      <td>18</td>\n",
       "      <td>0</td>\n",
       "    </tr>\n",
       "    <tr>\n",
       "      <th>3</th>\n",
       "      <td>1435133</td>\n",
       "      <td>ad</td>\n",
       "      <td>False</td>\n",
       "      <td>355</td>\n",
       "      <td>Tuesday</td>\n",
       "      <td>10</td>\n",
       "      <td>0</td>\n",
       "    </tr>\n",
       "    <tr>\n",
       "      <th>4</th>\n",
       "      <td>1015700</td>\n",
       "      <td>ad</td>\n",
       "      <td>False</td>\n",
       "      <td>276</td>\n",
       "      <td>Friday</td>\n",
       "      <td>14</td>\n",
       "      <td>0</td>\n",
       "    </tr>\n",
       "    <tr>\n",
       "      <th>5</th>\n",
       "      <td>1137664</td>\n",
       "      <td>ad</td>\n",
       "      <td>False</td>\n",
       "      <td>734</td>\n",
       "      <td>Saturday</td>\n",
       "      <td>10</td>\n",
       "      <td>0</td>\n",
       "    </tr>\n",
       "    <tr>\n",
       "      <th>6</th>\n",
       "      <td>1116205</td>\n",
       "      <td>ad</td>\n",
       "      <td>False</td>\n",
       "      <td>264</td>\n",
       "      <td>Wednesday</td>\n",
       "      <td>13</td>\n",
       "      <td>0</td>\n",
       "    </tr>\n",
       "    <tr>\n",
       "      <th>7</th>\n",
       "      <td>1496843</td>\n",
       "      <td>ad</td>\n",
       "      <td>False</td>\n",
       "      <td>17</td>\n",
       "      <td>Sunday</td>\n",
       "      <td>18</td>\n",
       "      <td>0</td>\n",
       "    </tr>\n",
       "    <tr>\n",
       "      <th>8</th>\n",
       "      <td>1448851</td>\n",
       "      <td>ad</td>\n",
       "      <td>False</td>\n",
       "      <td>21</td>\n",
       "      <td>Tuesday</td>\n",
       "      <td>19</td>\n",
       "      <td>0</td>\n",
       "    </tr>\n",
       "    <tr>\n",
       "      <th>9</th>\n",
       "      <td>1446284</td>\n",
       "      <td>ad</td>\n",
       "      <td>False</td>\n",
       "      <td>142</td>\n",
       "      <td>Monday</td>\n",
       "      <td>14</td>\n",
       "      <td>0</td>\n",
       "    </tr>\n",
       "  </tbody>\n",
       "</table>\n",
       "</div>"
      ],
      "text/plain": [
       "   user_id test_group  converted  total_ads most_ads_day  most_ads_hour  \\\n",
       "0  1069124         ad      False        130       Monday             20   \n",
       "1  1119715         ad      False         93      Tuesday             22   \n",
       "2  1144181         ad      False         21      Tuesday             18   \n",
       "3  1435133         ad      False        355      Tuesday             10   \n",
       "4  1015700         ad      False        276       Friday             14   \n",
       "5  1137664         ad      False        734     Saturday             10   \n",
       "6  1116205         ad      False        264    Wednesday             13   \n",
       "7  1496843         ad      False         17       Sunday             18   \n",
       "8  1448851         ad      False         21      Tuesday             19   \n",
       "9  1446284         ad      False        142       Monday             14   \n",
       "\n",
       "   converted_int  \n",
       "0              0  \n",
       "1              0  \n",
       "2              0  \n",
       "3              0  \n",
       "4              0  \n",
       "5              0  \n",
       "6              0  \n",
       "7              0  \n",
       "8              0  \n",
       "9              0  "
      ]
     },
     "execution_count": 16,
     "metadata": {},
     "output_type": "execute_result"
    }
   ],
   "source": [
    "df.head(10)"
   ]
  },
  {
   "cell_type": "markdown",
   "id": "74a78bab-aebd-43aa-a352-8372b39cb201",
   "metadata": {
    "tags": []
   },
   "source": [
    "# Analysis"
   ]
  },
  {
   "cell_type": "code",
   "execution_count": 17,
   "id": "d25c490c-0470-4bc3-a204-466a11f700be",
   "metadata": {
    "tags": []
   },
   "outputs": [],
   "source": [
    "def val_count(column):\n",
    "    plt.figure(figsize=(5,3))\n",
    "    sns.countplot(data=df, x=column)\n",
    "    plt.title(f'Value Count - {column}')\n",
    "    plt.show()\n",
    "\n",
    "    #print(df[column].value_counts())"
   ]
  },
  {
   "cell_type": "code",
   "execution_count": 18,
   "id": "df0173bc-5ce1-48a8-a634-f5225d5c33e6",
   "metadata": {
    "tags": []
   },
   "outputs": [
    {
     "data": {
      "image/png": "[encoded data removed]",
      "text/plain": [
       "<Figure size 500x300 with 1 Axes>"
      ]
     },
     "metadata": {},
     "output_type": "display_data"
    },
    {
     "data": {
      "image/png": "[encoded data removed]",
      "text/plain": [
       "<Figure size 500x300 with 1 Axes>"
      ]
     },
     "metadata": {},
     "output_type": "display_data"
    },
    {
     "data": {
      "image/png": "[encoded data removed]",
      "text/plain": [
       "<Figure size 500x300 with 1 Axes>"
      ]
     },
     "metadata": {},
     "output_type": "display_data"
    },
    {
     "data": {
      "image/png": "[encoded data removed]",
      "text/plain": [
       "<Figure size 500x300 with 1 Axes>"
      ]
     },
     "metadata": {},
     "output_type": "display_data"
    }
   ],
   "source": [
    "#create columns of interest\n",
    "col_lst = df.columns[[1,2,4,5]]\n",
    "\n",
    "#loop through columns of interest\n",
    "for i in col_lst:\n",
    "    val_count(i)"
   ]
  },
  {
   "cell_type": "markdown",
   "id": "9410513d-e844-4377-b2d8-290ce54e6b05",
   "metadata": {},
   "source": [
    "the majority of users saw the ads compared to those saw the psa\n",
    "\n",
    "the most ads seen by a user occurred on Friday and then Monday\n",
    "\n",
    "between 10AM and 3PM, users saw the most ads"
   ]
  },
  {
   "cell_type": "code",
   "execution_count": 19,
   "id": "3a3ff835-91ff-4fa5-83c1-f946cbdc12e3",
   "metadata": {
    "tags": []
   },
   "outputs": [
    {
     "data": {
      "image/png": "[encoded data removed]",
      "text/plain": [
       "<Figure size 300x300 with 1 Axes>"
      ]
     },
     "metadata": {},
     "output_type": "display_data"
    }
   ],
   "source": [
    "grouped_counts = df.groupby('test_group')['converted'].value_counts()\n",
    "grouped_counts\n",
    "\n",
    "# Plot the data as a pie chart\n",
    "grouped_counts.plot.pie(figsize= (3,3),autopct='%1.1f%%')\n",
    "\n",
    "# Set the title and axis labels\n",
    "plt.title('Distribution of Converted by Test Group')\n",
    "plt.ylabel('')\n",
    "\n",
    "# Show the plot\n",
    "plt.show()\n"
   ]
  },
  {
   "cell_type": "code",
   "execution_count": 20,
   "id": "8d5e8860-cc56-48a0-b64e-214eca55da6d",
   "metadata": {
    "tags": []
   },
   "outputs": [
    {
     "data": {
      "image/png": "[encoded data removed]",
      "text/plain": [
       "<Figure size 400x300 with 1 Axes>"
      ]
     },
     "metadata": {},
     "output_type": "display_data"
    }
   ],
   "source": [
    "ax =df.groupby(by =['most_ads_day', 'test_group']).sum()['converted_int'].unstack('test_group').plot(kind= 'bar', figsize= (4,3), grid= True, stacked= True)\n",
    "ax.set_ylabel('converted_int')\n",
    "ax.set_title('Most ad days and converted_int')\n",
    "plt.show()"
   ]
  },
  {
   "cell_type": "markdown",
   "id": "3ad91a9a-16a6-4b6c-92a7-c5b522bcaae6",
   "metadata": {
    "tags": []
   },
   "source": [
    "# AB test"
   ]
  },
  {
   "cell_type": "markdown",
   "id": "62fea1be-9055-4856-9a4e-de6ec0a2554d",
   "metadata": {},
   "source": [
    "### Minimum Sample Size"
   ]
  },
  {
   "cell_type": "code",
   "execution_count": 21,
   "id": "d03ddf5d-4ced-40da-816a-98ab30dadfb9",
   "metadata": {
    "tags": []
   },
   "outputs": [],
   "source": [
    "import math\n",
    "\n",
    "def sample_size_calculator(population_size, confidence_level, margin_of_error):\n",
    "    z_score = {\n",
    "        0.90: 1.645,\n",
    "        0.95: 1.96,\n",
    "        0.99: 2.576\n",
    "    }\n",
    "    \n",
    "    z = z_score[confidence_level]\n",
    "    p = 0.5 # assuming 50% for a conservative estimate of the sample size\n",
    "    q = 1 - p\n",
    "    \n",
    "    sample_size = ((z**2) * p * q * population_size) / ((z**2 * q) + ((margin_of_error**2) * (population_size - 1)))\n",
    "    return math.ceil(sample_size)"
   ]
  },
  {
   "cell_type": "code",
   "execution_count": 22,
   "id": "437b23f7-1e12-465b-a689-3986e9d13c86",
   "metadata": {
    "tags": []
   },
   "outputs": [
    {
     "name": "stdout",
     "output_type": "stream",
     "text": [
      "The population size is :588101 \n",
      "The required sample size is: 1832\n"
     ]
    }
   ],
   "source": [
    "#compute sample size \n",
    "pop_size = df.shape[0]\n",
    "conf_level = 0.99\n",
    "margin_err = 0.03\n",
    "\n",
    "sample_size = sample_size_calculator(pop_size, conf_level, margin_err)\n",
    "print(f\"The population size is :{pop_size} \\nThe required sample size is: {sample_size}\")"
   ]
  },
  {
   "cell_type": "code",
   "execution_count": 23,
   "id": "e13256ca-12c0-4e07-a5af-ecf398524072",
   "metadata": {
    "tags": []
   },
   "outputs": [
    {
     "data": {
      "text/html": [
       "<div>\n",
       "<style scoped>\n",
       "    .dataframe tbody tr th:only-of-type {\n",
       "        vertical-align: middle;\n",
       "    }\n",
       "\n",
       "    .dataframe tbody tr th {\n",
       "        vertical-align: top;\n",
       "    }\n",
       "\n",
       "    .dataframe thead th {\n",
       "        text-align: right;\n",
       "    }\n",
       "</style>\n",
       "<table border=\"1\" class=\"dataframe\">\n",
       "  <thead>\n",
       "    <tr style=\"text-align: right;\">\n",
       "      <th></th>\n",
       "      <th>user_id</th>\n",
       "      <th>test_group</th>\n",
       "      <th>converted</th>\n",
       "      <th>total_ads</th>\n",
       "      <th>most_ads_day</th>\n",
       "      <th>most_ads_hour</th>\n",
       "      <th>converted_int</th>\n",
       "    </tr>\n",
       "  </thead>\n",
       "  <tbody>\n",
       "    <tr>\n",
       "      <th>0</th>\n",
       "      <td>1069124</td>\n",
       "      <td>ad</td>\n",
       "      <td>False</td>\n",
       "      <td>130</td>\n",
       "      <td>Monday</td>\n",
       "      <td>20</td>\n",
       "      <td>0</td>\n",
       "    </tr>\n",
       "    <tr>\n",
       "      <th>1</th>\n",
       "      <td>1119715</td>\n",
       "      <td>ad</td>\n",
       "      <td>False</td>\n",
       "      <td>93</td>\n",
       "      <td>Tuesday</td>\n",
       "      <td>22</td>\n",
       "      <td>0</td>\n",
       "    </tr>\n",
       "    <tr>\n",
       "      <th>2</th>\n",
       "      <td>1144181</td>\n",
       "      <td>ad</td>\n",
       "      <td>False</td>\n",
       "      <td>21</td>\n",
       "      <td>Tuesday</td>\n",
       "      <td>18</td>\n",
       "      <td>0</td>\n",
       "    </tr>\n",
       "    <tr>\n",
       "      <th>3</th>\n",
       "      <td>1435133</td>\n",
       "      <td>ad</td>\n",
       "      <td>False</td>\n",
       "      <td>355</td>\n",
       "      <td>Tuesday</td>\n",
       "      <td>10</td>\n",
       "      <td>0</td>\n",
       "    </tr>\n",
       "    <tr>\n",
       "      <th>4</th>\n",
       "      <td>1015700</td>\n",
       "      <td>ad</td>\n",
       "      <td>False</td>\n",
       "      <td>276</td>\n",
       "      <td>Friday</td>\n",
       "      <td>14</td>\n",
       "      <td>0</td>\n",
       "    </tr>\n",
       "    <tr>\n",
       "      <th>...</th>\n",
       "      <td>...</td>\n",
       "      <td>...</td>\n",
       "      <td>...</td>\n",
       "      <td>...</td>\n",
       "      <td>...</td>\n",
       "      <td>...</td>\n",
       "      <td>...</td>\n",
       "    </tr>\n",
       "    <tr>\n",
       "      <th>588096</th>\n",
       "      <td>1278437</td>\n",
       "      <td>ad</td>\n",
       "      <td>False</td>\n",
       "      <td>1</td>\n",
       "      <td>Tuesday</td>\n",
       "      <td>23</td>\n",
       "      <td>0</td>\n",
       "    </tr>\n",
       "    <tr>\n",
       "      <th>588097</th>\n",
       "      <td>1327975</td>\n",
       "      <td>ad</td>\n",
       "      <td>False</td>\n",
       "      <td>1</td>\n",
       "      <td>Tuesday</td>\n",
       "      <td>23</td>\n",
       "      <td>0</td>\n",
       "    </tr>\n",
       "    <tr>\n",
       "      <th>588098</th>\n",
       "      <td>1038442</td>\n",
       "      <td>ad</td>\n",
       "      <td>False</td>\n",
       "      <td>3</td>\n",
       "      <td>Tuesday</td>\n",
       "      <td>23</td>\n",
       "      <td>0</td>\n",
       "    </tr>\n",
       "    <tr>\n",
       "      <th>588099</th>\n",
       "      <td>1496395</td>\n",
       "      <td>ad</td>\n",
       "      <td>False</td>\n",
       "      <td>1</td>\n",
       "      <td>Tuesday</td>\n",
       "      <td>23</td>\n",
       "      <td>0</td>\n",
       "    </tr>\n",
       "    <tr>\n",
       "      <th>588100</th>\n",
       "      <td>1237779</td>\n",
       "      <td>ad</td>\n",
       "      <td>False</td>\n",
       "      <td>1</td>\n",
       "      <td>Tuesday</td>\n",
       "      <td>23</td>\n",
       "      <td>0</td>\n",
       "    </tr>\n",
       "  </tbody>\n",
       "</table>\n",
       "<p>588101 rows × 7 columns</p>\n",
       "</div>"
      ],
      "text/plain": [
       "        user_id test_group  converted  total_ads most_ads_day  most_ads_hour  \\\n",
       "0       1069124         ad      False        130       Monday             20   \n",
       "1       1119715         ad      False         93      Tuesday             22   \n",
       "2       1144181         ad      False         21      Tuesday             18   \n",
       "3       1435133         ad      False        355      Tuesday             10   \n",
       "4       1015700         ad      False        276       Friday             14   \n",
       "...         ...        ...        ...        ...          ...            ...   \n",
       "588096  1278437         ad      False          1      Tuesday             23   \n",
       "588097  1327975         ad      False          1      Tuesday             23   \n",
       "588098  1038442         ad      False          3      Tuesday             23   \n",
       "588099  1496395         ad      False          1      Tuesday             23   \n",
       "588100  1237779         ad      False          1      Tuesday             23   \n",
       "\n",
       "        converted_int  \n",
       "0                   0  \n",
       "1                   0  \n",
       "2                   0  \n",
       "3                   0  \n",
       "4                   0  \n",
       "...               ...  \n",
       "588096              0  \n",
       "588097              0  \n",
       "588098              0  \n",
       "588099              0  \n",
       "588100              0  \n",
       "\n",
       "[588101 rows x 7 columns]"
      ]
     },
     "execution_count": 23,
     "metadata": {},
     "output_type": "execute_result"
    }
   ],
   "source": [
    "df"
   ]
  },
  {
   "cell_type": "code",
   "execution_count": 24,
   "id": "5ecfd4e8-fc7e-40ba-a247-f8fd927e72fc",
   "metadata": {
    "tags": []
   },
   "outputs": [],
   "source": [
    "control = df.query('test_group == \"ad\"')\n",
    "treamtment = df.query('test_group == \"psa\"')\n"
   ]
  },
  {
   "cell_type": "code",
   "execution_count": 25,
   "id": "a426eac2-dc34-42b4-a60b-e7d1f69dda3a",
   "metadata": {
    "tags": []
   },
   "outputs": [
    {
     "data": {
      "text/plain": [
       "(array([  1.,   0.,   0.,   0.,   0.,   0.,   2.,   0.,   2.,   6.,  12.,\n",
       "         20.,  22.,  45.,  66.,  91., 119., 167., 159., 251., 300., 409.,\n",
       "        477., 564., 454., 632., 679., 611., 661., 604., 575., 399., 512.,\n",
       "        450., 404., 296., 253., 154., 171., 127.,  91.,  79.,  46.,  23.,\n",
       "         23.,  20.,  11.,   9.,   2.,   1.]),\n",
       " array([0.02065975, 0.02082299, 0.02098623, 0.02114946, 0.0213127 ,\n",
       "        0.02147594, 0.02163918, 0.02180241, 0.02196565, 0.02212889,\n",
       "        0.02229213, 0.02245536, 0.0226186 , 0.02278184, 0.02294508,\n",
       "        0.02310831, 0.02327155, 0.02343479, 0.02359803, 0.02376127,\n",
       "        0.0239245 , 0.02408774, 0.02425098, 0.02441422, 0.02457745,\n",
       "        0.02474069, 0.02490393, 0.02506717, 0.0252304 , 0.02539364,\n",
       "        0.02555688, 0.02572012, 0.02588335, 0.02604659, 0.02620983,\n",
       "        0.02637307, 0.0265363 , 0.02669954, 0.02686278, 0.02702602,\n",
       "        0.02718925, 0.02735249, 0.02751573, 0.02767897, 0.0278422 ,\n",
       "        0.02800544, 0.02816868, 0.02833192, 0.02849515, 0.02865839,\n",
       "        0.02882163]),\n",
       " <BarContainer object of 50 artists>)"
      ]
     },
     "execution_count": 25,
     "metadata": {},
     "output_type": "execute_result"
    },
    {
     "data": {
      "image/png": "[encoded data removed]",
      "text/plain": [
       "<Figure size 640x480 with 1 Axes>"
      ]
     },
     "metadata": {},
     "output_type": "display_data"
    }
   ],
   "source": [
    "ad_converted = np.random.binomial(len(treamtment),\n",
    "                                  df.converted.mean(), 10000) / len(treamtment)\n",
    "\n",
    "plt.hist(ad_converted, bins=50)"
   ]
  },
  {
   "cell_type": "code",
   "execution_count": 26,
   "id": "ee4b05b6-2114-425b-9833-0ac797b01187",
   "metadata": {
    "tags": []
   },
   "outputs": [
    {
     "data": {
      "text/plain": [
       "(array([  1.,   1.,   0.,   3.,   5.,  12.,  15.,  16.,  25.,  32.,  35.,\n",
       "         76.,  97., 116., 154., 218., 234., 334., 339., 457., 473., 539.,\n",
       "        519., 609., 615., 573., 596., 555., 534., 537., 391., 375., 315.,\n",
       "        271., 224., 194., 148., 108.,  69.,  51.,  39.,  29.,  24.,  15.,\n",
       "         12.,   2.,   5.,   4.,   1.,   3.]),\n",
       " array([0.02444308, 0.02447457, 0.02450606, 0.02453756, 0.02456905,\n",
       "        0.02460054, 0.02463203, 0.02466353, 0.02469502, 0.02472651,\n",
       "        0.024758  , 0.0247895 , 0.02482099, 0.02485248, 0.02488398,\n",
       "        0.02491547, 0.02494696, 0.02497845, 0.02500995, 0.02504144,\n",
       "        0.02507293, 0.02510442, 0.02513592, 0.02516741, 0.0251989 ,\n",
       "        0.02523039, 0.02526189, 0.02529338, 0.02532487, 0.02535636,\n",
       "        0.02538786, 0.02541935, 0.02545084, 0.02548233, 0.02551383,\n",
       "        0.02554532, 0.02557681, 0.0256083 , 0.0256398 , 0.02567129,\n",
       "        0.02570278, 0.02573428, 0.02576577, 0.02579726, 0.02582875,\n",
       "        0.02586025, 0.02589174, 0.02592323, 0.02595472, 0.02598622,\n",
       "        0.02601771]),\n",
       " <BarContainer object of 50 artists>)"
      ]
     },
     "execution_count": 26,
     "metadata": {},
     "output_type": "execute_result"
    },
    {
     "data": {
      "image/png": "[encoded data removed]",
      "text/plain": [
       "<Figure size 640x480 with 1 Axes>"
      ]
     },
     "metadata": {},
     "output_type": "display_data"
    }
   ],
   "source": [
    "psa_converted = np.random.binomial(len(control),\n",
    "                                   df.converted.mean(), 10000) / len(control)\n",
    "\n",
    "plt.hist(psa_converted, bins=50 ,align = 'mid' , data=None)"
   ]
  },
  {
   "cell_type": "code",
   "execution_count": 27,
   "id": "c07c5354-4a49-4810-a198-37d7414ea177",
   "metadata": {
    "tags": []
   },
   "outputs": [
    {
     "data": {
      "text/plain": [
       "-1.0122929950895779e-05"
      ]
     },
     "execution_count": 27,
     "metadata": {},
     "output_type": "execute_result"
    }
   ],
   "source": [
    "p_diffs = ad_converted - psa_converted\n",
    "p_diffs\n",
    "p_diffs.mean()"
   ]
  },
  {
   "cell_type": "code",
   "execution_count": 28,
   "id": "eb65c5ea-5eb1-4f0e-8571-e6d39cf56960",
   "metadata": {
    "tags": []
   },
   "outputs": [
    {
     "data": {
      "text/plain": [
       "-0.007692453192201517"
      ]
     },
     "execution_count": 28,
     "metadata": {},
     "output_type": "execute_result"
    }
   ],
   "source": [
    "#real diff\n",
    "# customer who is shown ads bought less\n",
    "ab_data_diff = treamtment['converted'].mean() - control['converted'].mean()\n",
    "ab_data_diff"
   ]
  },
  {
   "cell_type": "markdown",
   "id": "014d87cb-3fd3-49f9-8d10-283b8a01636a",
   "metadata": {},
   "source": [
    "<div style = \"direction: rtl;\" >\n",
    "آیا  کسانی که به آنها تبلیغ نشان داده شده کمتر خرید کردند آیا این موضوع از لحاظ آماری معنا دار است یا خیر؟\n",
    "    </br>\n",
    "فرضیه صفر :نمایش تبلیغ  تأثیر معنادار بر تعداد خرید ندارد\n",
    "</br>\n",
    "فرضیه جایگزین:نمایش تبلیغ تأثیر معنادار بر تعداد خرید دارد\n",
    "</div>    "
   ]
  },
  {
   "cell_type": "code",
   "execution_count": 29,
   "id": "6d78cb0d-8928-40f9-bbf3-bfca0f11a17f",
   "metadata": {
    "tags": []
   },
   "outputs": [
    {
     "name": "stdout",
     "output_type": "stream",
     "text": [
      "p_value =  0.0\n",
      "Reject the null hypothesis. There is a significant difference between the two groups.\n"
     ]
    }
   ],
   "source": [
    "# is buying less is \n",
    "if ab_data_diff > 0 : \n",
    "    p_value = (p_diffs > ab_data_diff).mean() * 100\n",
    "else :\n",
    "    p_value = (p_diffs <= ab_data_diff).mean() * 100\n",
    "print ( \"p_value = \" ,p_value)\n",
    "if p_value < 0.05:\n",
    "    print( 'Reject the null hypothesis. There is a significant difference between the two groups.')\n",
    "else:\n",
    "    print( 'Fail to reject the null hypothesis. There is no significant difference between the two groups.')\n"
   ]
  },
  {
   "cell_type": "markdown",
   "id": "9012044b-a6be-484f-bf31-f66f649498bf",
   "metadata": {
    "tags": []
   },
   "source": [
    "<div style = \"direction: rtl;\" >\n",
    "نمایش تبلیغ باعث تعداد خرید کمتر شده است\n",
    "</div>"
   ]
  },
  {
   "cell_type": "code",
   "execution_count": 30,
   "id": "0d6c8e76-9125-4737-9d1f-0034435ddb1f",
   "metadata": {
    "tags": []
   },
   "outputs": [
    {
     "data": {
      "text/plain": [
       "<matplotlib.lines.Line2D at 0x2495e7d3640>"
      ]
     },
     "execution_count": 30,
     "metadata": {},
     "output_type": "execute_result"
    },
    {
     "data": {
      "image/png": "[encoded data removed]",
      "text/plain": [
       "<Figure size 640x480 with 1 Axes>"
      ]
     },
     "metadata": {},
     "output_type": "display_data"
    }
   ],
   "source": [
    "plt.hist(p_diffs, bins=100)\n",
    "low = ab_data_diff\n",
    "higth = p_diffs.mean()\n",
    "plt.axvline(x=low, color='g')\n",
    "plt.axvline(x=higth, color='r')"
   ]
  },
  {
   "cell_type": "markdown",
   "id": "a149f824-814d-403f-82f3-39c1414df0da",
   "metadata": {
    "tags": []
   },
   "source": [
    "# AB test using Code Simulation"
   ]
  },
  {
   "cell_type": "code",
   "execution_count": 31,
   "id": "54b4b59d-0fd5-4ee4-8056-63dcdfae05fa",
   "metadata": {
    "tags": []
   },
   "outputs": [],
   "source": [
    "control = df.query('test_group == \"ad\"')\n",
    "treamtment = df.query('test_group == \"psa\"')\n"
   ]
  },
  {
   "cell_type": "code",
   "execution_count": 32,
   "id": "135f5892-5135-4d13-ae24-a1215ac33d11",
   "metadata": {
    "tags": []
   },
   "outputs": [
    {
     "data": {
      "text/plain": [
       "-0.007692453192201517"
      ]
     },
     "execution_count": 32,
     "metadata": {},
     "output_type": "execute_result"
    }
   ],
   "source": [
    "dif = treamtment[\"converted\"].mean() - control[\"converted\"].mean()\n",
    "dif"
   ]
  },
  {
   "cell_type": "code",
   "execution_count": 33,
   "id": "2b15c22b-c6e1-446a-a2bd-4620ec61b014",
   "metadata": {
    "tags": []
   },
   "outputs": [
    {
     "data": {
      "text/plain": [
       "array([[0., 0.],\n",
       "       [0., 0.],\n",
       "       [0., 0.],\n",
       "       ...,\n",
       "       [1., 0.],\n",
       "       [1., 0.],\n",
       "       [1., 0.]])"
      ]
     },
     "execution_count": 33,
     "metadata": {},
     "output_type": "execute_result"
    }
   ],
   "source": [
    "conversion = np.array([\n",
    "    np.append(np.zeros(len(control[\"converted\"])), np.ones(len(treamtment[\"converted\"]))),\n",
    "    np.append(control[\"converted\"],treamtment[\"converted\"])\n",
    "])\n",
    "conversion_t = conversion.T\n",
    "conversion_t"
   ]
  },
  {
   "cell_type": "code",
   "execution_count": 34,
   "id": "3f624b38-68e4-46f0-8746-85efcb92b086",
   "metadata": {
    "tags": []
   },
   "outputs": [],
   "source": [
    "\n",
    "def sh_exp(N):\n",
    "    experiment_diff_mean = np.empty([N, 1])\n",
    "    for times in np.arange(N):\n",
    "        experiment_label = np.random.randint(0, 2, len(conversion_t))\n",
    "        experiment_data = np.array([\n",
    "            experiment_label,\n",
    "            conversion_t[:, 1]\n",
    "        ]).T\n",
    "        experiment_diff_mean[times] = experiment_data[experiment_data[:, 0] == 1][:, 1].mean() - experiment_data[experiment_data[:, 0] == 0][:, 1].mean()\n",
    "    return experiment_diff_mean\n"
   ]
  },
  {
   "cell_type": "code",
   "execution_count": 35,
   "id": "cb228bd5-1173-44ea-a770-5dd5600c4488",
   "metadata": {
    "tags": []
   },
   "outputs": [
    {
     "name": "stdout",
     "output_type": "stream",
     "text": [
      "Reject the null hypothesis. There is a significant difference between the two groups.\n"
     ]
    }
   ],
   "source": [
    "n=2000\n",
    "p_difs = sh_exp(n)\n",
    "\n",
    "if dif > 0  : \n",
    "    p_value = len(p_difs[p_difs >= dif]) / n * 100\n",
    "else : \n",
    "    p_value = len(p_difs[p_difs <= dif]) / n * 100\n",
    "    \n",
    "if p_value < 0.05:\n",
    "    print( 'Reject the null hypothesis. There is a significant difference between the two groups.')\n",
    "else:\n",
    "    print( 'Fail to reject the null hypothesis. There is no significant difference between the two groups.')\n",
    "\n",
    "\n",
    "    "
   ]
  },
  {
   "cell_type": "code",
   "execution_count": 37,
   "id": "e603de5e-aa3a-42f5-ac9f-4e67b87a2f04",
   "metadata": {
    "tags": []
   },
   "outputs": [
    {
     "data": {
      "text/plain": [
       "<seaborn.axisgrid.FacetGrid at 0x24956dee320>"
      ]
     },
     "execution_count": 37,
     "metadata": {},
     "output_type": "execute_result"
    },
    {
     "data": {
      "image/png": "[encoded data removed]",
      "text/plain": [
       "<Figure size 558.875x500 with 1 Axes>"
      ]
     },
     "metadata": {},
     "output_type": "display_data"
    }
   ],
   "source": [
    "sns.displot(p_difs, bins=50)"
   ]
  },
  {
   "cell_type": "markdown",
   "id": "b42c6af5-bc4d-42b6-b7d9-6f51d2cdf1f9",
   "metadata": {
    "tags": []
   },
   "source": [
    "# T-test "
   ]
  },
  {
   "cell_type": "code",
   "execution_count": 46,
   "id": "38e342e8-f046-4e71-9055-67f0edbd9aaf",
   "metadata": {
    "tags": []
   },
   "outputs": [
    {
     "data": {
      "text/html": [
       "<div>\n",
       "<style scoped>\n",
       "    .dataframe tbody tr th:only-of-type {\n",
       "        vertical-align: middle;\n",
       "    }\n",
       "\n",
       "    .dataframe tbody tr th {\n",
       "        vertical-align: top;\n",
       "    }\n",
       "\n",
       "    .dataframe thead th {\n",
       "        text-align: right;\n",
       "    }\n",
       "</style>\n",
       "<table border=\"1\" class=\"dataframe\">\n",
       "  <thead>\n",
       "    <tr style=\"text-align: right;\">\n",
       "      <th></th>\n",
       "      <th>most_ads_day</th>\n",
       "      <th>test_group</th>\n",
       "      <th>total_ads</th>\n",
       "      <th>avg_ads_hour</th>\n",
       "      <th>converted</th>\n",
       "      <th>conv_rate</th>\n",
       "    </tr>\n",
       "  </thead>\n",
       "  <tbody>\n",
       "    <tr>\n",
       "      <th>0</th>\n",
       "      <td>Friday</td>\n",
       "      <td>ad</td>\n",
       "      <td>2369546</td>\n",
       "      <td>14.717493</td>\n",
       "      <td>1995</td>\n",
       "      <td>0.022465</td>\n",
       "    </tr>\n",
       "    <tr>\n",
       "      <th>1</th>\n",
       "      <td>Friday</td>\n",
       "      <td>psa</td>\n",
       "      <td>94950</td>\n",
       "      <td>14.156455</td>\n",
       "      <td>62</td>\n",
       "      <td>0.016303</td>\n",
       "    </tr>\n",
       "    <tr>\n",
       "      <th>2</th>\n",
       "      <td>Monday</td>\n",
       "      <td>ad</td>\n",
       "      <td>2121848</td>\n",
       "      <td>14.620754</td>\n",
       "      <td>2778</td>\n",
       "      <td>0.033241</td>\n",
       "    </tr>\n",
       "    <tr>\n",
       "      <th>3</th>\n",
       "      <td>Monday</td>\n",
       "      <td>psa</td>\n",
       "      <td>83582</td>\n",
       "      <td>14.308110</td>\n",
       "      <td>79</td>\n",
       "      <td>0.022559</td>\n",
       "    </tr>\n",
       "    <tr>\n",
       "      <th>4</th>\n",
       "      <td>Saturday</td>\n",
       "      <td>ad</td>\n",
       "      <td>1980043</td>\n",
       "      <td>14.714017</td>\n",
       "      <td>1679</td>\n",
       "      <td>0.021307</td>\n",
       "    </tr>\n",
       "    <tr>\n",
       "      <th>5</th>\n",
       "      <td>Saturday</td>\n",
       "      <td>psa</td>\n",
       "      <td>80048</td>\n",
       "      <td>14.312456</td>\n",
       "      <td>40</td>\n",
       "      <td>0.013996</td>\n",
       "    </tr>\n",
       "    <tr>\n",
       "      <th>6</th>\n",
       "      <td>Sunday</td>\n",
       "      <td>ad</td>\n",
       "      <td>2006360</td>\n",
       "      <td>14.381954</td>\n",
       "      <td>2027</td>\n",
       "      <td>0.024620</td>\n",
       "    </tr>\n",
       "    <tr>\n",
       "      <th>7</th>\n",
       "      <td>Sunday</td>\n",
       "      <td>psa</td>\n",
       "      <td>77493</td>\n",
       "      <td>14.444590</td>\n",
       "      <td>63</td>\n",
       "      <td>0.020595</td>\n",
       "    </tr>\n",
       "    <tr>\n",
       "      <th>8</th>\n",
       "      <td>Thursday</td>\n",
       "      <td>ad</td>\n",
       "      <td>1839933</td>\n",
       "      <td>14.524539</td>\n",
       "      <td>1711</td>\n",
       "      <td>0.021637</td>\n",
       "    </tr>\n",
       "    <tr>\n",
       "      <th>9</th>\n",
       "      <td>Thursday</td>\n",
       "      <td>psa</td>\n",
       "      <td>104240</td>\n",
       "      <td>14.237388</td>\n",
       "      <td>79</td>\n",
       "      <td>0.020230</td>\n",
       "    </tr>\n",
       "    <tr>\n",
       "      <th>10</th>\n",
       "      <td>Tuesday</td>\n",
       "      <td>ad</td>\n",
       "      <td>1792031</td>\n",
       "      <td>14.051950</td>\n",
       "      <td>2270</td>\n",
       "      <td>0.030440</td>\n",
       "    </tr>\n",
       "    <tr>\n",
       "      <th>11</th>\n",
       "      <td>Tuesday</td>\n",
       "      <td>psa</td>\n",
       "      <td>61690</td>\n",
       "      <td>13.685243</td>\n",
       "      <td>42</td>\n",
       "      <td>0.014448</td>\n",
       "    </tr>\n",
       "    <tr>\n",
       "      <th>12</th>\n",
       "      <td>Wednesday</td>\n",
       "      <td>ad</td>\n",
       "      <td>1904940</td>\n",
       "      <td>14.258622</td>\n",
       "      <td>1963</td>\n",
       "      <td>0.025356</td>\n",
       "    </tr>\n",
       "    <tr>\n",
       "      <th>13</th>\n",
       "      <td>Wednesday</td>\n",
       "      <td>psa</td>\n",
       "      <td>80478</td>\n",
       "      <td>14.926648</td>\n",
       "      <td>55</td>\n",
       "      <td>0.015759</td>\n",
       "    </tr>\n",
       "  </tbody>\n",
       "</table>\n",
       "</div>"
      ],
      "text/plain": [
       "   most_ads_day test_group  total_ads  avg_ads_hour  converted  conv_rate\n",
       "0        Friday         ad    2369546     14.717493       1995   0.022465\n",
       "1        Friday        psa      94950     14.156455         62   0.016303\n",
       "2        Monday         ad    2121848     14.620754       2778   0.033241\n",
       "3        Monday        psa      83582     14.308110         79   0.022559\n",
       "4      Saturday         ad    1980043     14.714017       1679   0.021307\n",
       "5      Saturday        psa      80048     14.312456         40   0.013996\n",
       "6        Sunday         ad    2006360     14.381954       2027   0.024620\n",
       "7        Sunday        psa      77493     14.444590         63   0.020595\n",
       "8      Thursday         ad    1839933     14.524539       1711   0.021637\n",
       "9      Thursday        psa     104240     14.237388         79   0.020230\n",
       "10      Tuesday         ad    1792031     14.051950       2270   0.030440\n",
       "11      Tuesday        psa      61690     13.685243         42   0.014448\n",
       "12    Wednesday         ad    1904940     14.258622       1963   0.025356\n",
       "13    Wednesday        psa      80478     14.926648         55   0.015759"
      ]
     },
     "execution_count": 46,
     "metadata": {},
     "output_type": "execute_result"
    }
   ],
   "source": [
    "\n",
    "\n",
    "df_ads_day = pd.DataFrame(df.groupby(by=['most_ads_day', 'test_group'])['total_ads'].sum())\n",
    "df_ads_day['avg_ads_hour'] = df.groupby(by=['most_ads_day', 'test_group'])['most_ads_hour'].mean()\n",
    "\n",
    "# Calculate the number of conversions\n",
    "df_ads_day['converted'] = df[df['converted'] == True].groupby(by=['most_ads_day', 'test_group'])['converted'].count()\n",
    "df_ads_day['conv_rate'] = df.groupby(by=['most_ads_day', 'test_group'])['converted'].mean()\n",
    "\n",
    "\n",
    "df_ads_day.reset_index(inplace=True)  # Reset the index to have separate columns for 'most_ads_day' and 'test_group'\n",
    "\n",
    "df_ads_day\n"
   ]
  },
  {
   "cell_type": "code",
   "execution_count": 45,
   "id": "052fd185-9e4c-4757-9696-4325d39a6641",
   "metadata": {
    "tags": []
   },
   "outputs": [
    {
     "data": {
      "text/plain": [
       "<Axes: >"
      ]
     },
     "execution_count": 45,
     "metadata": {},
     "output_type": "execute_result"
    },
    {
     "data": {
      "image/png": "[encoded data removed]",
      "text/plain": [
       "<Figure size 640x480 with 1 Axes>"
      ]
     },
     "metadata": {},
     "output_type": "display_data"
    }
   ],
   "source": [
    "df_ads_day[\"conv_rate\"].hist(bins=200)"
   ]
  },
  {
   "cell_type": "code",
   "execution_count": 42,
   "id": "811dac40-70de-42f6-b76e-03cf4e91d50c",
   "metadata": {
    "tags": []
   },
   "outputs": [
    {
     "data": {
      "image/png": "[encoded data removed]",
      "text/plain": [
       "<Figure size 400x300 with 1 Axes>"
      ]
     },
     "metadata": {},
     "output_type": "display_data"
    },
    {
     "data": {
      "image/png": "[encoded data removed]",
      "text/plain": [
       "<Figure size 400x300 with 1 Axes>"
      ]
     },
     "metadata": {},
     "output_type": "display_data"
    },
    {
     "data": {
      "image/png": "[encoded data removed]",
      "text/plain": [
       "<Figure size 400x300 with 1 Axes>"
      ]
     },
     "metadata": {},
     "output_type": "display_data"
    },
    {
     "data": {
      "image/png": "[encoded data removed]",
      "text/plain": [
       "<Figure size 400x300 with 1 Axes>"
      ]
     },
     "metadata": {},
     "output_type": "display_data"
    }
   ],
   "source": [
    "#visualize day data\n",
    "def day_visualize(column):\n",
    "    plt.figure(figsize=(4,3))\n",
    "    sns.barplot(data=df_ads_day.reset_index(), x='most_ads_day', y=column, hue='test_group')\n",
    "    plt.xlabel('Day of the Week')\n",
    "    plt.ticklabel_format(axis='y', style='plain')\n",
    "    plt.title(f'{column} per Group by Day')\n",
    "    plt.show()\n",
    "\n",
    "for column in df_ads_day.columns:\n",
    "    if column != 'most_ads_day' and column != 'test_group':\n",
    "        day_visualize(column)"
   ]
  },
  {
   "cell_type": "code",
   "execution_count": null,
   "id": "f8318f0f-a31a-4c6a-a09c-66e5665e04b1",
   "metadata": {},
   "outputs": [],
   "source": []
  },
  {
   "cell_type": "code",
   "execution_count": 233,
   "id": "1516902e-973b-4424-83d1-9816739ac16d",
   "metadata": {
    "tags": []
   },
   "outputs": [
    {
     "data": {
      "image/png": "[encoded data removed]",
      "text/plain": [
       "<Figure size 500x300 with 1 Axes>"
      ]
     },
     "metadata": {},
     "output_type": "display_data"
    }
   ],
   "source": [
    "#visualize conversion by day\n",
    "df_day_conv = pd.DataFrame(df.groupby('most_ads_day')['converted'].mean())\n",
    "df_day_conv.reset_index(inplace=True)\n",
    "\n",
    "plt.figure(figsize=(5,3))\n",
    "plt.bar(data=df_day_conv, x='most_ads_day', height='converted')\n",
    "plt.title('Conversion Rate by Day')\n",
    "plt.axhline(df['converted'].mean(), color='r', linestyle='--', label='average')\n",
    "plt.legend()\n",
    "plt.show()"
   ]
  },
  {
   "cell_type": "code",
   "execution_count": 211,
   "id": "41550728-1b9b-45ca-ab0d-d9d293e242d6",
   "metadata": {
    "tags": []
   },
   "outputs": [
    {
     "data": {
      "text/plain": [
       "(0    1995\n",
       " 1    2778\n",
       " 2    1679\n",
       " 3    2027\n",
       " 4    1711\n",
       " 5    2270\n",
       " 6    1963\n",
       " Name: converted, dtype: int64,\n",
       " 0    62\n",
       " 1    79\n",
       " 2    40\n",
       " 3    63\n",
       " 4    79\n",
       " 5    42\n",
       " 6    55\n",
       " Name: converted, dtype: int64)"
      ]
     },
     "execution_count": 211,
     "metadata": {},
     "output_type": "execute_result"
    }
   ],
   "source": [
    "ad_df = df_ads_day[\"converted\"][df_ads_day.test_group == 'ad'].reset_index(drop=True)\n",
    "psa_df = df_ads_day[\"converted\"][df_ads_day.test_group == 'psa'].reset_index(drop=True)\n",
    "\n",
    "ad_df , psa_df"
   ]
  },
  {
   "cell_type": "code",
   "execution_count": 212,
   "id": "9f692489-c664-48c4-9471-662e2c9b8556",
   "metadata": {
    "tags": []
   },
   "outputs": [
    {
     "data": {
      "text/plain": [
       "(60.0, 2060.4285714285716, -2000.4285714285716)"
      ]
     },
     "execution_count": 212,
     "metadata": {},
     "output_type": "execute_result"
    }
   ],
   "source": [
    "d = psa_df.mean()-ad_df.mean()\n",
    "psa_df.mean() ,ad_df.mean() , d"
   ]
  },
  {
   "cell_type": "code",
   "execution_count": 213,
   "id": "e8ac24c0-b20d-4703-bfc3-5ffe0bb6ca4f",
   "metadata": {
    "tags": []
   },
   "outputs": [
    {
     "data": {
      "text/plain": [
       "array([[0.000e+00, 0.000e+00, 0.000e+00, 0.000e+00, 0.000e+00, 0.000e+00,\n",
       "        0.000e+00, 1.000e+00, 1.000e+00, 1.000e+00, 1.000e+00, 1.000e+00,\n",
       "        1.000e+00, 1.000e+00],\n",
       "       [1.995e+03, 2.778e+03, 1.679e+03, 2.027e+03, 1.711e+03, 2.270e+03,\n",
       "        1.963e+03, 6.200e+01, 7.900e+01, 4.000e+01, 6.300e+01, 7.900e+01,\n",
       "        4.200e+01, 5.500e+01]])"
      ]
     },
     "execution_count": 213,
     "metadata": {},
     "output_type": "execute_result"
    }
   ],
   "source": [
    "sales = np.array([\n",
    "    np.append(np.zeros(len(ad_df)), np.ones(len(psa_df))),\n",
    "    np.append(ad_df, psa_df)\n",
    "])\n",
    "sales"
   ]
  },
  {
   "cell_type": "code",
   "execution_count": 214,
   "id": "3944c2ad-e733-47e9-ba03-387f9646ba87",
   "metadata": {
    "tags": []
   },
   "outputs": [
    {
     "data": {
      "text/plain": [
       "array([[0.000e+00, 1.995e+03],\n",
       "       [0.000e+00, 2.778e+03],\n",
       "       [0.000e+00, 1.679e+03],\n",
       "       [0.000e+00, 2.027e+03],\n",
       "       [0.000e+00, 1.711e+03],\n",
       "       [0.000e+00, 2.270e+03],\n",
       "       [0.000e+00, 1.963e+03],\n",
       "       [1.000e+00, 6.200e+01],\n",
       "       [1.000e+00, 7.900e+01],\n",
       "       [1.000e+00, 4.000e+01],\n",
       "       [1.000e+00, 6.300e+01],\n",
       "       [1.000e+00, 7.900e+01],\n",
       "       [1.000e+00, 4.200e+01],\n",
       "       [1.000e+00, 5.500e+01]])"
      ]
     },
     "execution_count": 214,
     "metadata": {},
     "output_type": "execute_result"
    }
   ],
   "source": [
    "sales_t = sales.T\n",
    "sales_t"
   ]
  },
  {
   "cell_type": "code",
   "execution_count": 215,
   "id": "38d48d80-327d-48be-92de-676c7c76affe",
   "metadata": {
    "tags": []
   },
   "outputs": [],
   "source": [
    "\n",
    "def sh_exp(N):\n",
    "    experiment_diff_mean = np.empty([N, 1])\n",
    "    for times in np.arange(N):\n",
    "        experiment_label = np.random.randint(0, 2, len(sales_t))\n",
    "        experiment_data = np.array([\n",
    "            experiment_label,\n",
    "            sales_t[:, 1]\n",
    "        ]).T\n",
    "        experiment_diff_mean[times] = experiment_data[experiment_data[:, 0] == 1][:, 1].mean() - experiment_data[experiment_data[:, 0] == 0][:, 1].mean()\n",
    "    return experiment_diff_mean"
   ]
  },
  {
   "cell_type": "code",
   "execution_count": 216,
   "id": "e82c2636-c7c3-44b9-8778-d311cc911e89",
   "metadata": {
    "tags": []
   },
   "outputs": [
    {
     "name": "stderr",
     "output_type": "stream",
     "text": [
      "C:\\Users\\user\\AppData\\Local\\Temp\\ipykernel_15620\\2607062591.py:9: RuntimeWarning: Mean of empty slice.\n",
      "  experiment_diff_mean[times] = experiment_data[experiment_data[:, 0] == 1][:, 1].mean() - experiment_data[experiment_data[:, 0] == 0][:, 1].mean()\n",
      "C:\\Users\\user\\anaconda3\\lib\\site-packages\\numpy\\core\\_methods.py:192: RuntimeWarning: invalid value encountered in scalar divide\n",
      "  ret = ret.dtype.type(ret / rcount)\n"
     ]
    },
    {
     "data": {
      "text/plain": [
       "array([[ -389.8       ],\n",
       "       [-1273.79166667],\n",
       "       [  353.44444444],\n",
       "       ...,\n",
       "       [-1861.625     ],\n",
       "       [  167.33333333],\n",
       "       [-1208.58333333]])"
      ]
     },
     "execution_count": 216,
     "metadata": {},
     "output_type": "execute_result"
    }
   ],
   "source": [
    "e1 = sh_exp(sample_size)\n",
    "e1"
   ]
  },
  {
   "cell_type": "code",
   "execution_count": 217,
   "id": "ea8e7f23-8da4-48de-8e12-d7a3ca6dad73",
   "metadata": {
    "tags": []
   },
   "outputs": [
    {
     "name": "stdout",
     "output_type": "stream",
     "text": [
      "0.006367804381049414\n",
      "Reject the null hypothesis. There is a significant difference between the two groups.\n"
     ]
    }
   ],
   "source": [
    "p_value = len(e1[e1 >= abs(d)]) / sample_size * 100\n",
    "print(p_value)\n",
    "if p_value < 0.05:\n",
    "    print ( 'Reject the null hypothesis. There is a significant difference between the two groups.')\n",
    "else:\n",
    "    print ('Fail to reject the null hypothesis. There is no significant difference between the two groups.')\n",
    "\n",
    "  "
   ]
  },
  {
   "cell_type": "code",
   "execution_count": 218,
   "id": "27cdd1b5-3899-4169-9c82-3914a3eecd62",
   "metadata": {
    "tags": []
   },
   "outputs": [
    {
     "data": {
      "text/plain": [
       "<seaborn.axisgrid.FacetGrid at 0x2b9b8042530>"
      ]
     },
     "execution_count": 218,
     "metadata": {},
     "output_type": "execute_result"
    },
    {
     "data": {
      "image/png": "[encoded data removed]",
      "text/plain": [
       "<Figure size 558.875x500 with 1 Axes>"
      ]
     },
     "metadata": {},
     "output_type": "display_data"
    }
   ],
   "source": [
    "sns.displot(e1, bins=50)"
   ]
  },
  {
   "cell_type": "markdown",
   "id": "e175fe63-3ebe-4c14-bc0e-8872155a43e4",
   "metadata": {},
   "source": [
    "# Chi2 Test"
   ]
  },
  {
   "cell_type": "code",
   "execution_count": 19,
   "id": "bd5b281a-1c27-4a52-bf80-adf90ca096a6",
   "metadata": {
    "tags": []
   },
   "outputs": [
    {
     "data": {
      "text/html": [
       "<div>\n",
       "<style scoped>\n",
       "    .dataframe tbody tr th:only-of-type {\n",
       "        vertical-align: middle;\n",
       "    }\n",
       "\n",
       "    .dataframe tbody tr th {\n",
       "        vertical-align: top;\n",
       "    }\n",
       "\n",
       "    .dataframe thead th {\n",
       "        text-align: right;\n",
       "    }\n",
       "</style>\n",
       "<table border=\"1\" class=\"dataframe\">\n",
       "  <thead>\n",
       "    <tr style=\"text-align: right;\">\n",
       "      <th></th>\n",
       "      <th>user_id</th>\n",
       "      <th>test_group</th>\n",
       "      <th>converted</th>\n",
       "      <th>total_ads</th>\n",
       "      <th>most_ads_day</th>\n",
       "      <th>most_ads_hour</th>\n",
       "      <th>converted_int</th>\n",
       "    </tr>\n",
       "  </thead>\n",
       "  <tbody>\n",
       "    <tr>\n",
       "      <th>0</th>\n",
       "      <td>1069124</td>\n",
       "      <td>ad</td>\n",
       "      <td>False</td>\n",
       "      <td>130</td>\n",
       "      <td>Monday</td>\n",
       "      <td>20</td>\n",
       "      <td>0</td>\n",
       "    </tr>\n",
       "    <tr>\n",
       "      <th>1</th>\n",
       "      <td>1119715</td>\n",
       "      <td>ad</td>\n",
       "      <td>False</td>\n",
       "      <td>93</td>\n",
       "      <td>Tuesday</td>\n",
       "      <td>22</td>\n",
       "      <td>0</td>\n",
       "    </tr>\n",
       "    <tr>\n",
       "      <th>2</th>\n",
       "      <td>1144181</td>\n",
       "      <td>ad</td>\n",
       "      <td>False</td>\n",
       "      <td>21</td>\n",
       "      <td>Tuesday</td>\n",
       "      <td>18</td>\n",
       "      <td>0</td>\n",
       "    </tr>\n",
       "    <tr>\n",
       "      <th>3</th>\n",
       "      <td>1435133</td>\n",
       "      <td>ad</td>\n",
       "      <td>False</td>\n",
       "      <td>355</td>\n",
       "      <td>Tuesday</td>\n",
       "      <td>10</td>\n",
       "      <td>0</td>\n",
       "    </tr>\n",
       "    <tr>\n",
       "      <th>4</th>\n",
       "      <td>1015700</td>\n",
       "      <td>ad</td>\n",
       "      <td>False</td>\n",
       "      <td>276</td>\n",
       "      <td>Friday</td>\n",
       "      <td>14</td>\n",
       "      <td>0</td>\n",
       "    </tr>\n",
       "  </tbody>\n",
       "</table>\n",
       "</div>"
      ],
      "text/plain": [
       "   user_id test_group  converted  total_ads most_ads_day  most_ads_hour  \\\n",
       "0  1069124         ad      False        130       Monday             20   \n",
       "1  1119715         ad      False         93      Tuesday             22   \n",
       "2  1144181         ad      False         21      Tuesday             18   \n",
       "3  1435133         ad      False        355      Tuesday             10   \n",
       "4  1015700         ad      False        276       Friday             14   \n",
       "\n",
       "   converted_int  \n",
       "0              0  \n",
       "1              0  \n",
       "2              0  \n",
       "3              0  \n",
       "4              0  "
      ]
     },
     "execution_count": 19,
     "metadata": {},
     "output_type": "execute_result"
    }
   ],
   "source": [
    "df.head()"
   ]
  },
  {
   "cell_type": "code",
   "execution_count": 20,
   "id": "e34ee36c-099d-437d-91ee-8da0e441f40d",
   "metadata": {
    "tags": []
   },
   "outputs": [
    {
     "data": {
      "text/html": [
       "<div>\n",
       "<style scoped>\n",
       "    .dataframe tbody tr th:only-of-type {\n",
       "        vertical-align: middle;\n",
       "    }\n",
       "\n",
       "    .dataframe tbody tr th {\n",
       "        vertical-align: top;\n",
       "    }\n",
       "\n",
       "    .dataframe thead th {\n",
       "        text-align: right;\n",
       "    }\n",
       "</style>\n",
       "<table border=\"1\" class=\"dataframe\">\n",
       "  <thead>\n",
       "    <tr style=\"text-align: right;\">\n",
       "      <th>converted</th>\n",
       "      <th>False</th>\n",
       "      <th>True</th>\n",
       "      <th>All</th>\n",
       "    </tr>\n",
       "    <tr>\n",
       "      <th>test_group</th>\n",
       "      <th></th>\n",
       "      <th></th>\n",
       "      <th></th>\n",
       "    </tr>\n",
       "  </thead>\n",
       "  <tbody>\n",
       "    <tr>\n",
       "      <th>ad</th>\n",
       "      <td>550154</td>\n",
       "      <td>14423</td>\n",
       "      <td>564577</td>\n",
       "    </tr>\n",
       "    <tr>\n",
       "      <th>psa</th>\n",
       "      <td>23104</td>\n",
       "      <td>420</td>\n",
       "      <td>23524</td>\n",
       "    </tr>\n",
       "    <tr>\n",
       "      <th>All</th>\n",
       "      <td>573258</td>\n",
       "      <td>14843</td>\n",
       "      <td>588101</td>\n",
       "    </tr>\n",
       "  </tbody>\n",
       "</table>\n",
       "</div>"
      ],
      "text/plain": [
       "converted    False   True     All\n",
       "test_group                       \n",
       "ad          550154  14423  564577\n",
       "psa          23104    420   23524\n",
       "All         573258  14843  588101"
      ]
     },
     "execution_count": 20,
     "metadata": {},
     "output_type": "execute_result"
    }
   ],
   "source": [
    "ct = pd.crosstab(df['test_group'], df['converted'], margins=True)\n",
    "\n",
    "ct"
   ]
  },
  {
   "cell_type": "code",
   "execution_count": 28,
   "id": "2b36bf97-e5fc-484f-ae41-a2ae1aa4806a",
   "metadata": {
    "tags": []
   },
   "outputs": [
    {
     "data": {
      "text/plain": [
       "array([550154,  14423,  23104,    420], dtype=int64)"
      ]
     },
     "execution_count": 28,
     "metadata": {},
     "output_type": "execute_result"
    }
   ],
   "source": [
    "d = np.append(ct.iloc[0][: -1].values, ct.iloc[1][: -1].values)\n",
    "type(d)\n",
    "d"
   ]
  },
  {
   "cell_type": "code",
   "execution_count": 35,
   "id": "eb403ca1-8f72-4a1d-ba88-a1d7540a75aa",
   "metadata": {
    "tags": []
   },
   "outputs": [
    {
     "name": "stdout",
     "output_type": "stream",
     "text": [
      "Chi-square statistic: 0.0\n",
      "P-value: 1.0\n",
      "Degrees of freedom: 0\n",
      "Expected frequencies:\n",
      "[5.50154e+05 1.44230e+04 2.31040e+04 4.20000e+02]\n"
     ]
    }
   ],
   "source": [
    "chi2, p_value, dof, expected  =stats.chi2_contingency(d)\n",
    "\n",
    "# Print the results\n",
    "print(\"Chi-square statistic:\", chi2)\n",
    "print(\"P-value:\", p_value)\n",
    "print(\"Degrees of freedom:\", dof)\n",
    "print(\"Expected frequencies:\")\n",
    "print(expected)"
   ]
  },
  {
   "cell_type": "code",
   "execution_count": 36,
   "id": "189bb122-903d-4766-90b5-d8a66a663f80",
   "metadata": {},
   "outputs": [
    {
     "name": "stdout",
     "output_type": "stream",
     "text": [
      "Fail to reject the null hypothesis. There is no significant difference between the two groups.\n"
     ]
    }
   ],
   "source": [
    "if p_value < 0.05:\n",
    "    print ( 'Reject the null hypothesis. There is a significant difference between the two groups.')\n",
    "else:\n",
    "    print ('Fail to reject the null hypothesis. There is no significant difference between the two groups.')\n",
    "\n",
    "  "
   ]
  },
  {
   "cell_type": "code",
   "execution_count": null,
   "id": "ef1b7021-5998-4428-a9e9-8cbfc905234f",
   "metadata": {},
   "outputs": [],
   "source": [
    "# Simin Alavizadeh"
   ]
  },
  {
   "cell_type": "code",
   "execution_count": null,
   "id": "392a62cd-597d-4d6a-aaea-a60da0808e64",
   "metadata": {},
   "outputs": [],
   "source": []
  }
 ],
 "metadata": {
  "kernelspec": {
   "display_name": "Python 3 (ipykernel)",
   "language": "python",
   "name": "python3"
  },
  "language_info": {
   "codemirror_mode": {
    "name": "ipython",
    "version": 3
   },
   "file_extension": ".py",
   "mimetype": "text/x-python",
   "name": "python",
   "nbconvert_exporter": "python",
   "pygments_lexer": "ipython3",
   "version": "3.10.9"
  }
 },
 "nbformat": 4,
 "nbformat_minor": 5
}
